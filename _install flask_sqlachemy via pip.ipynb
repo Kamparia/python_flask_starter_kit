{
 "cells": [
  {
   "cell_type": "code",
   "execution_count": 2,
   "metadata": {
    "collapsed": false
   },
   "outputs": [],
   "source": [
    "import pip"
   ]
  },
  {
   "cell_type": "code",
   "execution_count": 9,
   "metadata": {
    "collapsed": false
   },
   "outputs": [
    {
     "name": "stdout",
     "output_type": "stream",
     "text": [
      "Collecting Flask-SQLAlchemy\n",
      "  Downloading Flask-SQLAlchemy-2.1.tar.gz (95kB)\n",
      "Requirement already satisfied (use --upgrade to upgrade): Flask>=0.10 in c:\\program files\\anaconda3\\lib\\site-packages (from Flask-SQLAlchemy)\n",
      "Requirement already satisfied (use --upgrade to upgrade): SQLAlchemy>=0.7 in c:\\program files\\anaconda3\\lib\\site-packages (from Flask-SQLAlchemy)\n",
      "Requirement already satisfied (use --upgrade to upgrade): Werkzeug>=0.7 in c:\\program files\\anaconda3\\lib\\site-packages (from Flask>=0.10->Flask-SQLAlchemy)\n",
      "Requirement already satisfied (use --upgrade to upgrade): Jinja2>=2.4 in c:\\program files\\anaconda3\\lib\\site-packages (from Flask>=0.10->Flask-SQLAlchemy)\n",
      "Requirement already satisfied (use --upgrade to upgrade): itsdangerous>=0.21 in c:\\program files\\anaconda3\\lib\\site-packages (from Flask>=0.10->Flask-SQLAlchemy)\n",
      "Requirement already satisfied (use --upgrade to upgrade): click>=2.0 in c:\\program files\\anaconda3\\lib\\site-packages (from Flask>=0.10->Flask-SQLAlchemy)\n",
      "Requirement already satisfied (use --upgrade to upgrade): MarkupSafe in c:\\program files\\anaconda3\\lib\\site-packages (from Jinja2>=2.4->Flask>=0.10->Flask-SQLAlchemy)\n",
      "Building wheels for collected packages: Flask-SQLAlchemy\n",
      "  Running setup.py bdist_wheel for Flask-SQLAlchemy: started\n",
      "  Running setup.py bdist_wheel for Flask-SQLAlchemy: finished with status 'done'\n",
      "  Stored in directory: C:\\Users\\osomide\\AppData\\Local\\pip\\Cache\\wheels\\cf\\9f\\1b\\390c152e645c6e300fda9ed9c678c6e22717a3020fd02acb4d\n",
      "Successfully built Flask-SQLAlchemy\n",
      "Installing collected packages: Flask-SQLAlchemy\n"
     ]
    },
    {
     "name": "stderr",
     "output_type": "stream",
     "text": [
      "Exception:\n",
      "Traceback (most recent call last):\n",
      "  File \"C:\\Program Files\\Anaconda3\\lib\\site-packages\\pip\\basecommand.py\", line 215, in main\n",
      "    status = self.run(options, args)\n",
      "  File \"C:\\Program Files\\Anaconda3\\lib\\site-packages\\pip\\commands\\install.py\", line 317, in run\n",
      "    prefix=options.prefix_path,\n",
      "  File \"C:\\Program Files\\Anaconda3\\lib\\site-packages\\pip\\req\\req_set.py\", line 742, in install\n",
      "    **kwargs\n",
      "  File \"C:\\Program Files\\Anaconda3\\lib\\site-packages\\pip\\req\\req_install.py\", line 831, in install\n",
      "    self.move_wheel_files(self.source_dir, root=root, prefix=prefix)\n",
      "  File \"C:\\Program Files\\Anaconda3\\lib\\site-packages\\pip\\req\\req_install.py\", line 1032, in move_wheel_files\n",
      "    isolated=self.isolated,\n",
      "  File \"C:\\Program Files\\Anaconda3\\lib\\site-packages\\pip\\wheel.py\", line 346, in move_wheel_files\n",
      "    clobber(source, lib_dir, True)\n",
      "  File \"C:\\Program Files\\Anaconda3\\lib\\site-packages\\pip\\wheel.py\", line 317, in clobber\n",
      "    ensure_dir(destdir)\n",
      "  File \"C:\\Program Files\\Anaconda3\\lib\\site-packages\\pip\\utils\\__init__.py\", line 83, in ensure_dir\n",
      "    os.makedirs(path)\n",
      "  File \"C:\\Program Files\\Anaconda3\\lib\\os.py\", line 241, in makedirs\n",
      "    mkdir(name, mode)\n",
      "PermissionError: [WinError 5] Access is denied: 'C:\\\\Program Files\\\\Anaconda3\\\\Lib\\\\site-packages\\\\flask_sqlalchemy'\n",
      "You are using pip version 8.1.2, however version 9.0.1 is available.\n",
      "You should consider upgrading via the 'python -m pip install --upgrade pip' command.\n"
     ]
    },
    {
     "data": {
      "text/plain": [
       "2"
      ]
     },
     "execution_count": 9,
     "metadata": {},
     "output_type": "execute_result"
    }
   ],
   "source": [
    "pip.main(['install', 'Flask-SQLAlchemy'])"
   ]
  },
  {
   "cell_type": "code",
   "execution_count": null,
   "metadata": {
    "collapsed": true
   },
   "outputs": [],
   "source": []
  }
 ],
 "metadata": {
  "kernelspec": {
   "display_name": "Python [default]",
   "language": "python",
   "name": "python3"
  },
  "language_info": {
   "codemirror_mode": {
    "name": "ipython",
    "version": 3
   },
   "file_extension": ".py",
   "mimetype": "text/x-python",
   "name": "python",
   "nbconvert_exporter": "python",
   "pygments_lexer": "ipython3",
   "version": "3.5.2"
  }
 },
 "nbformat": 4,
 "nbformat_minor": 1
}
