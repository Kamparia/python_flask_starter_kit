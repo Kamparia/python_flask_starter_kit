{
 "cells": [
  {
   "cell_type": "markdown",
   "metadata": {},
   "source": [
    "# Working with forms and logic"
   ]
  },
  {
   "cell_type": "code",
   "execution_count": 13,
   "metadata": {
    "collapsed": false
   },
   "outputs": [],
   "source": [
    "## import datetime and flask module\n",
    "from datetime import datetime\n",
    "from flask import Flask, render_template, url_for, request, redirect, flash\n",
    "\n",
    "## import flaks wtf module\n",
    "from flask_wtf import Form\n",
    "from wtforms.fields import StringField\n",
    "from flask.ext.wtf.html5 import URLField\n",
    "from wtforms.validators import DataRequired, url"
   ]
  },
  {
   "cell_type": "code",
   "execution_count": 14,
   "metadata": {
    "collapsed": false
   },
   "outputs": [
    {
     "name": "stderr",
     "output_type": "stream",
     "text": [
      " * Running on http://127.0.0.1:5000/ (Press CTRL+C to quit)\n"
     ]
    }
   ],
   "source": [
    "## initiate the flask app\n",
    "app = Flask(__name__)\n",
    "## flash requires secret_key to carry out sessions\n",
    "## to get a secret_key\n",
    "## import os\n",
    "## os.urandom(24)\n",
    "app.config['SECRET_KEY'] = b'3\\nHO\\x00\\xdd\\xae0B\\xae\\xa7{}\\xa5\\xed+ 6\\x80\\x87\\xcaP\\xc9\\xe2'\n",
    "\n",
    "user = {\n",
    "    \"firstname\": \"Olaoye\",\n",
    "    \"lastname\": \"Somide\"\n",
    "}\n",
    "\n",
    "class BookmarkForm(Form):\n",
    "    url = URLField('The URL for your bookmark:', validators=[DataRequired(), url()])\n",
    "    description = StringField('Add an optional description:', validators=[DataRequired()])\n",
    "\n",
    "    def validate(self):\n",
    "        if not self.url.data.startswith(\"http://\") or\\\n",
    "            self.url.data.startswith(\"https://\"):\n",
    "            self.url.data = \"http://\" + self.url.data\n",
    "\n",
    "        if not Form.validate(self):\n",
    "            return False\n",
    "\n",
    "        if not self.description.data:\n",
    "            self.description.data = self.url.data\n",
    "\n",
    "        return True\n",
    "\n",
    "## empty global array to store new bookmark\n",
    "bookmarks = []\n",
    "\n",
    "def store_bookmark(url, description):\n",
    "    bookmarks.append(dict(\n",
    "        url = url,\n",
    "        description = description,\n",
    "        user = user['firstname'] + ' ' + user['lastname'],\n",
    "        date = datetime.utcnow()\n",
    "    ))\n",
    "\n",
    "def new_bookmarks(num):\n",
    "    return sorted(bookmarks, key=lambda bm: bm['date'], reverse=True)[:num]    \n",
    "    \n",
    "@app.route('/')\n",
    "@app.route('/index')\n",
    "@app.route('/home')\n",
    "def index():\n",
    "    return render_template('index.html', user=user, new_bookmarks=new_bookmarks(5))\n",
    "\n",
    "@app.route('/add', methods=['GET', 'POST'])\n",
    "def add():\n",
    "    '''\n",
    "        if request.method == \"POST\": ## Check if the request method is POST\n",
    "            url = request.form['url'] ## request form input\n",
    "            description = request.form['description'] ## request form input\n",
    "            store_bookmark(url, description) ## stores the bookmark by calling the fuction\n",
    "            flash(\"Stored book '{}'\".format(description))\n",
    "            return redirect(url_for('index')) ## redirect to index page on post success\n",
    "        return render_template('add.html')    \n",
    "    '''\n",
    "    ## Form validation before submit\n",
    "    form = BookmarkForm()\n",
    "    if form.validate_on_submit():\n",
    "        url = form.url.data\n",
    "        description = form.description.data\n",
    "        store_bookmark(url, description)\n",
    "        flash(\"Stored '{}'\".format(description))\n",
    "        return redirect(url_for('index'))\n",
    "    return render_template('add.html', form=form)\n",
    "\n",
    "\n",
    "## Error Handling\n",
    "@app.errorhandler(404) ## 404 error - page not found\n",
    "def page_not_found(e):\n",
    "    return render_template('404.html'), 404\n",
    "\n",
    "@app.errorhandler(500) ## 500 error - server error\n",
    "def server_error(e):\n",
    "    return render_template('500.html'), 500\n",
    "\n",
    "## initiate the app function\n",
    "if __name__ == \"__main__\":\n",
    "    app.run()"
   ]
  },
  {
   "cell_type": "code",
   "execution_count": 15,
   "metadata": {
    "collapsed": false
   },
   "outputs": [
    {
     "name": "stdout",
     "output_type": "stream",
     "text": [
      "[]\n"
     ]
    }
   ],
   "source": [
    "print(bookmarks)"
   ]
  },
  {
   "cell_type": "code",
   "execution_count": null,
   "metadata": {
    "collapsed": true
   },
   "outputs": [],
   "source": []
  }
 ],
 "metadata": {
  "anaconda-cloud": {},
  "kernelspec": {
   "display_name": "Python [default]",
   "language": "python",
   "name": "python3"
  },
  "language_info": {
   "codemirror_mode": {
    "name": "ipython",
    "version": 3
   },
   "file_extension": ".py",
   "mimetype": "text/x-python",
   "name": "python",
   "nbconvert_exporter": "python",
   "pygments_lexer": "ipython3",
   "version": "3.5.2"
  }
 },
 "nbformat": 4,
 "nbformat_minor": 1
}
