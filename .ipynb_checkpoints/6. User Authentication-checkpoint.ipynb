{
 "cells": [
  {
   "cell_type": "markdown",
   "metadata": {},
   "source": [
    "# Working with SQLAchemy"
   ]
  },
  {
   "cell_type": "code",
   "execution_count": 15,
   "metadata": {
    "collapsed": false
   },
   "outputs": [],
   "source": [
    "## import modules\n",
    "import os\n",
    "from datetime import datetime\n",
    "from flask import Flask, render_template, url_for, request, redirect, flash\n",
    "\n",
    "## import flaks wtf module\n",
    "from flask_wtf import Form\n",
    "from wtforms.fields import StringField, PasswordField, BooleanField, SubmitField\n",
    "from flask.ext.wtf.html5 import URLField\n",
    "from wtforms.validators import DataRequired, Length, Email, Regexp, EqualTo, url, ValidationError\n",
    "\n",
    "\n",
    "## import sqlachemy\n",
    "from flask_sqlalchemy import SQLAlchemy\n",
    "from sqlalchemy import desc\n",
    "\n",
    "## import flask-login\n",
    "from flask_login import LoginManager\n",
    "from flask_login import login_required, login_user, logout_user, current_user\n",
    "from flask_login import UserMixin\n",
    "from werkzeug.security import check_password_hash, generate_password_hash"
   ]
  },
  {
   "cell_type": "code",
   "execution_count": 16,
   "metadata": {
    "collapsed": false
   },
   "outputs": [
    {
     "name": "stderr",
     "output_type": "stream",
     "text": [
      "C:\\Program Files\\Anaconda3\\lib\\site-packages\\flask_sqlalchemy\\__init__.py:800: UserWarning: SQLALCHEMY_TRACK_MODIFICATIONS adds significant overhead and will be disabled by default in the future.  Set it to True to suppress this warning.\n",
      "  warnings.warn('SQLALCHEMY_TRACK_MODIFICATIONS adds significant overhead and will be disabled by default in the future.  Set it to True to suppress this warning.')\n"
     ]
    }
   ],
   "source": [
    "## initiate the flask app\n",
    "app = Flask(__name__)\n",
    "\n",
    "## flash requires secret_key to carry out sessions\n",
    "## to get a secret_key\n",
    "## import os\n",
    "## os.urandom(24)\n",
    "app.config['SECRET_KEY'] = b'3\\nHO\\x00\\xdd\\xae0B\\xae\\xa7{}\\xa5\\xed+ 6\\x80\\x87\\xcaP\\xc9\\xe2'\n",
    "\n",
    "## Setting up SQLite database connection\n",
    "basedir = os.path.abspath(os.path.dirname('__file__'))\n",
    "app.config['SQLALCHEMY_DATABASE_URI'] = 'sqlite:///' + os.path.join(basedir, 'thermos.db')\n",
    "db = SQLAlchemy(app)\n",
    "\n",
    "## Configure login authentication\n",
    "login_manager = LoginManager()\n",
    "login_manager.session_protection = \"strong\" ## ensure security is strong to avoid password hijacking\n",
    "login_manager.login_view = \"login\" ## redirects user to the login page when trying to access an un-authorised page\n",
    "login_manager.init_app(app)"
   ]
  },
  {
   "cell_type": "code",
   "execution_count": 17,
   "metadata": {
    "collapsed": false
   },
   "outputs": [
    {
     "name": "stderr",
     "output_type": "stream",
     "text": [
      "usage: __main__.py [-?] {shell,runserver,dropdb,initdb} ...\n",
      "__main__.py: error: invalid choice: 'C:\\\\Users\\\\osomide\\\\AppData\\\\Roaming\\\\jupyter\\\\runtime\\\\kernel-809203a3-36c1-4d16-8102-0186072e6ad6.json' (choose from 'shell', 'runserver', 'dropdb', 'initdb')\n"
     ]
    },
    {
     "ename": "SystemExit",
     "evalue": "2",
     "output_type": "error",
     "traceback": [
      "An exception has occurred, use %tb to see the full traceback.\n",
      "\u001b[0;31mSystemExit\u001b[0m\u001b[0;31m:\u001b[0m 2\n"
     ]
    },
    {
     "name": "stderr",
     "output_type": "stream",
     "text": [
      "C:\\Program Files\\Anaconda3\\lib\\site-packages\\IPython\\core\\interactiveshell.py:2889: UserWarning: To exit: use 'exit', 'quit', or Ctrl-D.\n",
      "  warn(\"To exit: use 'exit', 'quit', or Ctrl-D.\", stacklevel=1)\n"
     ]
    }
   ],
   "source": [
    "## manage.py - this helps in managing the database.\n",
    "from flask.ext.script import Manager, prompt_bool\n",
    "\n",
    "manager = Manager(app)\n",
    "\n",
    "## Create Database\n",
    "@manager.command\n",
    "def initdb():\n",
    "    ## SQLAchemy command to create db\n",
    "    db.create_all()\n",
    "    ## Adding default users\n",
    "    ##db.session.add(User(username=\"kamparia\", email=\"somideolaoye@gmail.com\", password=\"password\"))\n",
    "    ##db.session.commit()\n",
    "    print('Initialized the Database')\n",
    "    \n",
    "## Drop Database\n",
    "@manager.command\n",
    "def dropdb():\n",
    "    if prompt_bool(\"Are you sure you want to loose all your data\"):\n",
    "        db.drop_all()\n",
    "        print('Dropped the database')\n",
    "\n",
    "## Run script\n",
    "if __name__ == '__main__':\n",
    "    manager.run()"
   ]
  },
  {
   "cell_type": "code",
   "execution_count": 18,
   "metadata": {
    "collapsed": false
   },
   "outputs": [
    {
     "name": "stdout",
     "output_type": "stream",
     "text": [
      "Are you sure you want to loose all your data [n]: y\n",
      "Dropped the database\n",
      "Initialized the Database\n"
     ]
    }
   ],
   "source": [
    "## Class for creating database tables in SQLite\n",
    "## Create Bookmark table\n",
    "class Bookmark(db.Model):\n",
    "    id = db.Column(db.Integer, primary_key=True)\n",
    "    url = db.Column(db.Text, nullable=False)\n",
    "    date = db.Column(db.DateTime, default=datetime.utcnow)\n",
    "    description = db.Column(db.String(300))\n",
    "    user_id = db.Column(db.Integer, db.ForeignKey('user.id'), nullable=False)\n",
    " \n",
    "    @staticmethod\n",
    "    def newest(num):\n",
    "        return Bookmark.query.order_by(desc(Bookmark.date)).limit(num)\n",
    "\n",
    "    def __repr__(self):\n",
    "        return \"<Bookmark '{}': '{}'>\".format(self.description, self.url)\n",
    "\n",
    "class User(db.Model, UserMixin):\n",
    "    id = db.Column(db.Integer, primary_key=True)\n",
    "    username = db.Column(db.String(80), unique=True)\n",
    "    email = db.Column(db.String(120), unique=True)\n",
    "    bookmarks = db.relationship('Bookmark', backref='user', lazy='dynamic')\n",
    "    password_hash = db.Column(db.String)\n",
    "\n",
    "    @property\n",
    "    def password(self):\n",
    "        raise AttributeError('password: write-only field')\n",
    "\n",
    "    @password.setter\n",
    "    def password(self, password):\n",
    "        self.password_hash = generate_password_hash(password)\n",
    "\n",
    "    def check_password(self, password):\n",
    "        return check_password_hash(self.password_hash, password)\n",
    "\n",
    "    @staticmethod\n",
    "    def get_by_username(username):\n",
    "        return User.query.filter_by(username=username).first()\n",
    "\n",
    "    def __repr__(self):\n",
    "        return \"<User '{}'>\".format(self.username)\n",
    "\n",
    "    \n",
    "## SQLAlchemy creates a database based on DB \n",
    "## db.create_all()\n",
    "## dropdb()\n",
    "initdb()"
   ]
  },
  {
   "cell_type": "code",
   "execution_count": 19,
   "metadata": {
    "collapsed": false
   },
   "outputs": [
    {
     "data": {
      "text/plain": [
       "'\\n## Insert record into the database table using SQLAlchemy\\n## Add User & Bookmark\\nu=User(username=\\'kamparia\\', email=\\'somideolaoye@gmail.com\\')\\nbk = Bookmark(url=\"http://facebook.com\", date=datetime.utcnow(), description=\"Facebook Social Network\")\\ndb.session.add(u, bk)\\ndb.session.commit()\\n\\n## Simple queries using SQLAchemy\\nBookmark.query.all() ## retrieve all row\\nBookmark.query.get(1) ## get by primary key\\n##Bookmark.query.filter_by(username=\"kamparia\").all() ## query using where clause \\n'"
      ]
     },
     "execution_count": 19,
     "metadata": {},
     "output_type": "execute_result"
    }
   ],
   "source": [
    "'''\n",
    "## Insert record into the database table using SQLAlchemy\n",
    "## Add User & Bookmark\n",
    "u=User(username='kamparia', email='somideolaoye@gmail.com')\n",
    "bk = Bookmark(url=\"http://facebook.com\", date=datetime.utcnow(), description=\"Facebook Social Network\")\n",
    "db.session.add(u, bk)\n",
    "db.session.commit()\n",
    "\n",
    "## Simple queries using SQLAchemy\n",
    "Bookmark.query.all() ## retrieve all row\n",
    "Bookmark.query.get(1) ## get by primary key\n",
    "##Bookmark.query.filter_by(username=\"kamparia\").all() ## query using where clause \n",
    "'''"
   ]
  },
  {
   "cell_type": "code",
   "execution_count": 20,
   "metadata": {
    "collapsed": true
   },
   "outputs": [],
   "source": [
    "## form.py\n",
    "## Class for managing the Flask-WTForms \n",
    "class BookmarkForm(Form):\n",
    "    url = URLField('The URL for your bookmark:', validators=[DataRequired(), url()])\n",
    "    description = StringField('Add an optional description:', validators=[DataRequired()])\n",
    "\n",
    "    def validate(self):\n",
    "        if not self.url.data.startswith(\"http://\") or\\\n",
    "            self.url.data.startswith(\"https://\"):\n",
    "            self.url.data = \"http://\" + self.url.data\n",
    "\n",
    "        if not Form.validate(self):\n",
    "            return False\n",
    "\n",
    "        if not self.description.data:\n",
    "            self.description.data = self.url.data\n",
    "\n",
    "        return True\n",
    "    \n",
    "class LoginForm(Form):\n",
    "    username = StringField('Your Username:', validators=[DataRequired()])\n",
    "    password = PasswordField('Password', validators=[DataRequired()])\n",
    "    remember_me = BooleanField('Keep me logged in')\n",
    "    submit = SubmitField('Log In')\n",
    "\n",
    "\n",
    "class SignupForm(Form):\n",
    "    username = StringField('Username',\n",
    "                    validators=[\n",
    "                        DataRequired(), Length(3, 80),\n",
    "                        Regexp('^[A-Za-z0-9_]{3,}$',\n",
    "                            message='Usernames consist of numbers, letters,'\n",
    "                                    'and underscores.')])\n",
    "    password = PasswordField('Password',\n",
    "                    validators=[\n",
    "                        DataRequired(),\n",
    "                        EqualTo('password2', message='Passwords must match.')])\n",
    "    password2 = PasswordField('Confirm password', validators=[DataRequired()])\n",
    "    email = StringField('Email',\n",
    "                        validators=[DataRequired(), Length(1, 120), Email()])\n",
    "    \n",
    "    ## Validates email field ensuring that email is not currently existing in DB \n",
    "    def validate_email(self, email_field):\n",
    "        if User.query.filter_by(email=email_field.data).first():\n",
    "            raise ValidationError('There already is a user with this email address.')\n",
    "\n",
    "    ## Validates username field ensuring that username is not currently existing in DB \n",
    "    def validate_username(self, username_field):\n",
    "        if User.query.filter_by(username=username_field.data).first():\n",
    "            raise ValidationError('This username is already taken.')\n"
   ]
  },
  {
   "cell_type": "code",
   "execution_count": null,
   "metadata": {
    "collapsed": false
   },
   "outputs": [
    {
     "name": "stderr",
     "output_type": "stream",
     "text": [
      " * Running on http://127.0.0.1:5000/ (Press CTRL+C to quit)\n",
      "127.0.0.1 - - [30/Dec/2016 11:04:44] \"GET / HTTP/1.1\" 200 -\n",
      "127.0.0.1 - - [30/Dec/2016 11:04:48] \"GET /signup HTTP/1.1\" 200 -\n",
      "127.0.0.1 - - [30/Dec/2016 11:05:18] \"POST /signup HTTP/1.1\" 302 -\n",
      "127.0.0.1 - - [30/Dec/2016 11:05:18] \"GET /login HTTP/1.1\" 200 -\n",
      "127.0.0.1 - - [30/Dec/2016 11:05:23] \"POST /login HTTP/1.1\" 200 -\n",
      "127.0.0.1 - - [30/Dec/2016 11:05:28] \"POST /login HTTP/1.1\" 302 -\n",
      "127.0.0.1 - - [30/Dec/2016 11:05:29] \"GET /user/kamparia HTTP/1.1\" 200 -\n",
      "127.0.0.1 - - [30/Dec/2016 11:05:32] \"GET /home HTTP/1.1\" 200 -\n",
      "127.0.0.1 - - [30/Dec/2016 11:05:35] \"GET /add HTTP/1.1\" 200 -\n",
      "127.0.0.1 - - [30/Dec/2016 11:05:43] \"POST /add HTTP/1.1\" 302 -\n",
      "127.0.0.1 - - [30/Dec/2016 11:05:43] \"GET /home HTTP/1.1\" 200 -\n",
      "127.0.0.1 - - [30/Dec/2016 11:05:48] \"GET /add HTTP/1.1\" 200 -\n",
      "127.0.0.1 - - [30/Dec/2016 11:05:50] \"GET /user/kamparia HTTP/1.1\" 200 -\n",
      "127.0.0.1 - - [30/Dec/2016 11:06:01] \"GET /home HTTP/1.1\" 200 -\n"
     ]
    }
   ],
   "source": [
    "## The function loads user based on provided user_id\n",
    "@login_manager.user_loader\n",
    "def load_user(userid):\n",
    "    return User.query.get(int(userid))\n",
    "\n",
    "## Index page view\n",
    "@app.route('/')\n",
    "@app.route('/index')\n",
    "@app.route('/home')\n",
    "def index():\n",
    "    return render_template('index.html', user=current_user, new_bookmarks=Bookmark.newest(5))\n",
    "\n",
    "## Users Profile page view\n",
    "@app.route('/user/<username>')\n",
    "def user(username):\n",
    "    user = User.query.filter_by(username=username).first_or_404()\n",
    "    return render_template('user.html', user=current_user,)\n",
    "\n",
    "## Add Bookmark View\n",
    "@app.route('/add', methods=['GET', 'POST'])\n",
    "@login_required #to access the page, the user must be logged-in\n",
    "def add():\n",
    "    ## Form validation before submit\n",
    "    form = BookmarkForm()\n",
    "    if form.validate_on_submit():\n",
    "        url = form.url.data\n",
    "        description = form.description.data\n",
    "        ## Store form variable to database\n",
    "        bm = Bookmark(user=current_user, url=url, description=description)\n",
    "        db.session.add(bm)\n",
    "        db.session.commit()\n",
    "        flash(\"Stored '{}'\".format(description))\n",
    "        return redirect(url_for('index'))\n",
    "    return render_template('add.html', form=form)\n",
    "\n",
    "## Login View\n",
    "@app.route(\"/login\", methods=[\"GET\", \"POST\"])\n",
    "def login():\n",
    "    form = LoginForm()\n",
    "    if form.validate_on_submit():\n",
    "        user = User.get_by_username(form.username.data)\n",
    "        if user is not None and user.check_password(form.password.data):\n",
    "            login_user(user, form.remember_me.data)\n",
    "            flash(\"Logged in successfully as {}.\".format(user.username))\n",
    "            # makes sure the user gets redirected to the referral page after login in\n",
    "            return redirect(request.args.get('next') or url_for('user', username=user.username))\n",
    "        flash('Incorrect username or password.')\n",
    "    return render_template(\"login.html\", form=form)\n",
    "\n",
    "## Sign Up view\n",
    "@app.route(\"/signup\", methods=[\"GET\", \"POST\"])\n",
    "def signup():\n",
    "    form = SignupForm()\n",
    "    if form.validate_on_submit():\n",
    "        ## Save user records from form to DB\n",
    "        user = User(email=form.email.data,\n",
    "                    username=form.username.data,\n",
    "                    password = form.password.data)\n",
    "        db.session.add(user)\n",
    "        db.session.commit()\n",
    "        ## redirect to login page after successful sign-up \n",
    "        flash('Welcome, {}! Please login.'.format(user.username))\n",
    "        return redirect(url_for('login'))\n",
    "    return render_template(\"signup.html\", form=form)\n",
    "\n",
    "## Logout View\n",
    "@app.route(\"/logout\")\n",
    "def logout():\n",
    "    logout_user()\n",
    "    return redirect(url_for('index'))\n",
    "\n",
    "## Error Handling\n",
    "@app.errorhandler(404) ## 404 error - page not found\n",
    "def page_not_found(e):\n",
    "    return render_template('404.html'), 404\n",
    "\n",
    "@app.errorhandler(500) ## 500 error - server error\n",
    "def server_error(e):\n",
    "    return render_template('500.html'), 500\n",
    "\n",
    "## initiate the app function\n",
    "if __name__ == \"__main__\":\n",
    "    app.run()"
   ]
  },
  {
   "cell_type": "code",
   "execution_count": null,
   "metadata": {
    "collapsed": true
   },
   "outputs": [],
   "source": []
  }
 ],
 "metadata": {
  "anaconda-cloud": {},
  "kernelspec": {
   "display_name": "Python [default]",
   "language": "python",
   "name": "python3"
  },
  "language_info": {
   "codemirror_mode": {
    "name": "ipython",
    "version": 3
   },
   "file_extension": ".py",
   "mimetype": "text/x-python",
   "name": "python",
   "nbconvert_exporter": "python",
   "pygments_lexer": "ipython3",
   "version": "3.5.2"
  }
 },
 "nbformat": 4,
 "nbformat_minor": 1
}
