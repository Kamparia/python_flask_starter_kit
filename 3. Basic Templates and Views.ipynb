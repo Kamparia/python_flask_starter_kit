{
 "cells": [
  {
   "cell_type": "markdown",
   "metadata": {},
   "source": [
    "# Working with templates and views"
   ]
  },
  {
   "cell_type": "code",
   "execution_count": null,
   "metadata": {
    "collapsed": false
   },
   "outputs": [
    {
     "name": "stderr",
     "output_type": "stream",
     "text": [
      " * Running on http://127.0.0.1:5000/ (Press CTRL+C to quit)\n",
      "127.0.0.1 - - [28/Dec/2016 14:39:16] \"GET / HTTP/1.1\" 200 -\n",
      "127.0.0.1 - - [28/Dec/2016 14:39:16] \"GET /.../static/css/normalize.min.css HTTP/1.1\" 404 -\n",
      "127.0.0.1 - - [28/Dec/2016 14:39:18] \"GET /add HTTP/1.1\" 200 -\n",
      "127.0.0.1 - - [28/Dec/2016 14:39:18] \"GET /.../static/css/normalize.min.css HTTP/1.1\" 404 -\n",
      "127.0.0.1 - - [28/Dec/2016 14:39:21] \"GET /home HTTP/1.1\" 200 -\n",
      "127.0.0.1 - - [28/Dec/2016 14:39:21] \"GET /.../static/css/normalize.min.css HTTP/1.1\" 404 -\n"
     ]
    }
   ],
   "source": [
    "from flask import Flask, render_template, url_for\n",
    "\n",
    "app = Flask(__name__)\n",
    "\n",
    "@app.route('/')\n",
    "@app.route('/index')\n",
    "@app.route('/home')\n",
    "def index():\n",
    "    user = {\n",
    "        \"firstname\": \"Olaoye\",\n",
    "        \"lastname\": \"Somide\"\n",
    "    }\n",
    "    return render_template('index.html', user=user)\n",
    "\n",
    "@app.route('/add')\n",
    "def add():\n",
    "    return render_template('add.html')\n",
    "\n",
    "@app.errorhandler(404)\n",
    "def page_not_found(e):\n",
    "    return render_template('404.html'), 404\n",
    "\n",
    "@app.errorhandler(500)\n",
    "def server_error(e):\n",
    "    return render_template('500.html'), 500\n",
    "\n",
    "if __name__ == \"__main__\":\n",
    "    app.run()\n"
   ]
  },
  {
   "cell_type": "code",
   "execution_count": null,
   "metadata": {
    "collapsed": true
   },
   "outputs": [],
   "source": []
  }
 ],
 "metadata": {
  "anaconda-cloud": {},
  "kernelspec": {
   "display_name": "Python [default]",
   "language": "python",
   "name": "python3"
  },
  "language_info": {
   "codemirror_mode": {
    "name": "ipython",
    "version": 3
   },
   "file_extension": ".py",
   "mimetype": "text/x-python",
   "name": "python",
   "nbconvert_exporter": "python",
   "pygments_lexer": "ipython3",
   "version": "3.5.2"
  }
 },
 "nbformat": 4,
 "nbformat_minor": 1
}
